# Import required libraries
import numpy as np
import matplotlib.pyplot as plt
import pandas as pd
import warnings
warnings.filterwarnings('ignore')

# Set plotting style
plt.style.use('default')
%matplotlib inline

print("✅ Libraries imported successfully!")
print("📊 Ready to start microstructural analysis")## 1. Setup and Imports# Microstructural Analysis Tutorial
## Comprehensive Computer Vision Analysis for Materials Science

This notebook provides an interactive tutorial for using the Microstructural Analysis Toolkit.

### 📋 What You'll Learn:
- Image preprocessing and calibration
- Grain detection and analysis
- Defect identification
- Phase analysis
- Advanced machine learning features
- Data visualization and reporting

### 🚀 Getting Started
Run each cell in order to follow the complete analysis pipeline.